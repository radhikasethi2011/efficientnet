{
  "cells": [
    {
      "cell_type": "code",
      "execution_count": 1,
      "metadata": {
        "colab": {
          "base_uri": "https://localhost:8080/"
        },
        "id": "wbaxwZY8ujjU",
        "outputId": "a3d4eaee-de6c-4536-cfca-a7eaad0934cd"
      },
      "outputs": [
        {
          "output_type": "stream",
          "name": "stdout",
          "text": [
            "Looking in indexes: https://pypi.org/simple, https://us-python.pkg.dev/colab-wheels/public/simple/\n",
            "Collecting tensorflow-addons==0.8.3\n",
            "  Downloading tensorflow_addons-0.8.3-cp37-cp37m-manylinux2010_x86_64.whl (1.0 MB)\n",
            "\u001b[K     |████████████████████████████████| 1.0 MB 7.8 MB/s \n",
            "\u001b[?25hRequirement already satisfied: typeguard in /usr/local/lib/python3.7/dist-packages (from tensorflow-addons==0.8.3) (2.7.1)\n",
            "Installing collected packages: tensorflow-addons\n",
            "Successfully installed tensorflow-addons-0.8.3\n",
            "Mounted at /content/drive\n"
          ]
        }
      ],
      "source": [
        "import matplotlib.pyplot as plt\n",
        "import numpy as np\n",
        "import pandas as pd\n",
        "import seaborn as sns\n",
        "import cv2\n",
        "import tensorflow as tf\n",
        "from tensorflow.keras.preprocessing.image import ImageDataGenerator\n",
        "from tqdm import tqdm\n",
        "import os\n",
        "from sklearn.utils import shuffle\n",
        "from sklearn.model_selection import train_test_split\n",
        "from tensorflow.keras.applications import EfficientNetB0\n",
        "from tensorflow.keras.callbacks import EarlyStopping, ReduceLROnPlateau, TensorBoard, ModelCheckpoint\n",
        "from sklearn.metrics import classification_report,confusion_matrix\n",
        "import ipywidgets as widgets\n",
        "import io\n",
        "from PIL import Image\n",
        "from IPython.display import display,clear_output\n",
        "from warnings import filterwarnings\n",
        "!pip install tensorflow-addons==0.8.3\n",
        "from google.colab import drive\n",
        "drive.mount('/content/drive')"
      ]
    },
    {
      "cell_type": "code",
      "source": [
        "from google.colab import drive\n",
        "drive.mount('/content/drive')"
      ],
      "metadata": {
        "colab": {
          "base_uri": "https://localhost:8080/"
        },
        "id": "QE9NIUceQsmh",
        "outputId": "c81da82b-f67e-497c-f6d3-13c9554c1aba"
      },
      "execution_count": 2,
      "outputs": [
        {
          "output_type": "stream",
          "name": "stdout",
          "text": [
            "Drive already mounted at /content/drive; to attempt to forcibly remount, call drive.mount(\"/content/drive\", force_remount=True).\n"
          ]
        }
      ]
    },
    {
      "cell_type": "code",
      "execution_count": 3,
      "metadata": {
        "colab": {
          "base_uri": "https://localhost:8080/",
          "height": 233
        },
        "id": "Ccb68T4aujjY",
        "outputId": "f9ad29bb-3dc4-41ec-ef67-3489a5aa6232"
      },
      "outputs": [
        {
          "output_type": "display_data",
          "data": {
            "text/plain": [
              "<Figure size 360x72 with 1 Axes>"
            ],
            "image/png": "[encoded data removed]"
          },
          "metadata": {
            "needs_background": "light"
          }
        },
        {
          "output_type": "display_data",
          "data": {
            "text/plain": [
              "<Figure size 360x72 with 1 Axes>"
            ],
            "image/png": "[encoded data removed]"
          },
          "metadata": {
            "needs_background": "light"
          }
        },
        {
          "output_type": "display_data",
          "data": {
            "text/plain": [
              "<Figure size 360x72 with 1 Axes>"
            ],
            "image/png": "[encoded data removed]"
          },
          "metadata": {
            "needs_background": "light"
          }
        }
      ],
      "source": [
        "colors_dark = [\"#1F1F1F\", \"#313131\", '#636363', '#AEAEAE', '#DADADA']\n",
        "colors_red = [\"#331313\", \"#582626\", '#9E1717', '#D35151', '#E9B4B4']\n",
        "colors_green = ['#01411C','#4B6F44','#4F7942','#74C365','#D0F0C0']\n",
        "\n",
        "sns.palplot(colors_dark)\n",
        "sns.palplot(colors_green)\n",
        "sns.palplot(colors_red)"
      ]
    },
    {
      "cell_type": "code",
      "execution_count": 4,
      "metadata": {
        "id": "33-1XmYeujjZ"
      },
      "outputs": [],
      "source": [
        "labels = ['glioma','notumor','meningioma','pituitary']"
      ]
    },
    {
      "cell_type": "code",
      "execution_count": 5,
      "metadata": {
        "colab": {
          "base_uri": "https://localhost:8080/"
        },
        "id": "8_6FbjcZujja",
        "outputId": "3df86171-b888-46ee-abab-c2e869fdb571"
      },
      "outputs": [
        {
          "output_type": "stream",
          "name": "stderr",
          "text": [
            "100%|██████████| 1321/1321 [00:24<00:00, 53.78it/s] \n",
            "100%|██████████| 1595/1595 [00:26<00:00, 60.72it/s] \n",
            "100%|██████████| 1339/1339 [00:23<00:00, 57.33it/s] \n",
            "100%|██████████| 1457/1457 [00:26<00:00, 54.20it/s] \n"
          ]
        }
      ],
      "source": [
        "\n",
        "X_train = []\n",
        "y_train = []\n",
        "image_size = 384\n",
        "for i in labels:\n",
        "    folderPath = os.path.join('/content/drive/MyDrive/Brain_tumor_detection/median',i)\n",
        "    for j in tqdm(os.listdir(folderPath)):\n",
        "        img = cv2.imread(os.path.join(folderPath,j))\n",
        "        img = cv2.resize(img,(image_size, image_size))\n",
        "        X_train.append(img)\n",
        "        y_train.append(i)\n",
        "        \n",
        "        \n",
        "X_train = np.array(X_train)\n",
        "y_train = np.array(y_train)"
      ]
    },
    {
      "cell_type": "code",
      "execution_count": 6,
      "metadata": {
        "colab": {
          "base_uri": "https://localhost:8080/"
        },
        "id": "Pjn2QsqyLYg5",
        "outputId": "6b7f0a59-3391-4505-92d9-1e72c1cfece0"
      },
      "outputs": [
        {
          "output_type": "stream",
          "name": "stderr",
          "text": [
            "100%|██████████| 300/300 [00:04<00:00, 67.92it/s] \n",
            "100%|██████████| 405/405 [00:05<00:00, 74.70it/s] \n",
            "100%|██████████| 306/306 [00:05<00:00, 60.98it/s] \n",
            "100%|██████████| 300/300 [00:04<00:00, 65.39it/s] \n"
          ]
        }
      ],
      "source": [
        "X_testing = []\n",
        "y_testing = []\n",
        "image_size = 384\n",
        "for i in labels:\n",
        "    folderPath = os.path.join('drive/MyDrive/Brain_tumor_detection/brain_tumor_original_dataset/Testing',i)\n",
        "    for j in tqdm(os.listdir(folderPath)):\n",
        "        img = cv2.imread(os.path.join(folderPath,j))\n",
        "        img = cv2.resize(img,(image_size, image_size))\n",
        "        X_testing.append(img)\n",
        "        y_testing.append(i)\n",
        "        \n",
        "        \n",
        "X_testing = np.array(X_testing)\n",
        "y_testing = np.array(y_testing)"
      ]
    },
    {
      "cell_type": "code",
      "execution_count": 7,
      "metadata": {
        "id": "4lch78bUMfnL"
      },
      "outputs": [],
      "source": [
        "X_test,X_val,y_test,y_val = train_test_split(X_testing,y_testing, test_size=0.3,random_state=101)"
      ]
    },
    {
      "cell_type": "code",
      "execution_count": 7,
      "metadata": {
        "id": "-v8W6d8gM0X-"
      },
      "outputs": [],
      "source": [
        ""
      ]
    },
    {
      "cell_type": "code",
      "execution_count": 8,
      "metadata": {
        "id": "HPnoc2-7ujjb"
      },
      "outputs": [],
      "source": [
        "X_train, y_train = shuffle(X_train,y_train, random_state=101)"
      ]
    },
    {
      "cell_type": "code",
      "execution_count": 9,
      "metadata": {
        "colab": {
          "base_uri": "https://localhost:8080/"
        },
        "id": "4UGGgFtrujjb",
        "outputId": "b2ec6d07-a842-486d-fc12-2bac0e29bbdb"
      },
      "outputs": [
        {
          "output_type": "execute_result",
          "data": {
            "text/plain": [
              "(5712, 384, 384, 3)"
            ]
          },
          "metadata": {},
          "execution_count": 9
        }
      ],
      "source": [
        "X_train.shape"
      ]
    },
    {
      "cell_type": "code",
      "execution_count": 10,
      "metadata": {
        "id": "i5_qPhI1ujjd"
      },
      "outputs": [],
      "source": [
        "y_train_new = []\n",
        "for i in y_train:\n",
        "    y_train_new.append(labels.index(i))\n",
        "y_train = y_train_new\n",
        "y_train = tf.keras.utils.to_categorical(y_train)\n",
        "\n",
        "\n",
        "y_test_new = []\n",
        "for i in y_test:\n",
        "    y_test_new.append(labels.index(i))\n",
        "y_test = y_test_new\n",
        "y_test = tf.keras.utils.to_categorical(y_test)\n",
        "\n",
        "y_val_new = []\n",
        "for i in y_val:\n",
        "    y_val_new.append(labels.index(i))\n",
        "y_val = y_val_new\n",
        "y_val = tf.keras.utils.to_categorical(y_val)"
      ]
    },
    {
      "cell_type": "code",
      "execution_count": 11,
      "metadata": {
        "id": "NAwDJ5eGujjd",
        "colab": {
          "base_uri": "https://localhost:8080/"
        },
        "outputId": "7df441e6-54f1-42b5-cd7c-ffc2e2f38bd1"
      },
      "outputs": [
        {
          "output_type": "stream",
          "name": "stdout",
          "text": [
            "  Building wheel for validators (setup.py) ... \u001b[?25l\u001b[?25hdone\n"
          ]
        }
      ],
      "source": [
        "!pip install --quiet vit-keras\n",
        "import tensorflow_addons as tfa\n",
        "\n",
        "from vit_keras import vit"
      ]
    },
    {
      "cell_type": "code",
      "execution_count": 12,
      "metadata": {
        "id": "S38mV2M-6w_j",
        "colab": {
          "base_uri": "https://localhost:8080/"
        },
        "outputId": "ca094f64-99fc-4730-c95c-40cbed600b5a"
      },
      "outputs": [
        {
          "output_type": "stream",
          "name": "stdout",
          "text": [
            "Downloading data from https://github.com/faustomorales/vit-keras/releases/download/dl/ViT-L_32_imagenet21k+imagenet2012.npz\n",
            "1226661888/1226658854 [==============================] - 126s 0us/step\n",
            "1226670080/1226658854 [==============================] - 126s 0us/step\n"
          ]
        }
      ],
      "source": [
        "vit_model = vit.vit_l32(\n",
        "        activation = 'softmax',\n",
        "        pretrained = True,\n",
        "        include_top = False,\n",
        "        pretrained_top = False,\n",
        "        classes = 4)"
      ]
    },
    {
      "cell_type": "code",
      "source": [
        "for layer in vit_model.layers:\n",
        "  layer.trainable = False"
      ],
      "metadata": {
        "id": "HD6fMTx03Z4C"
      },
      "execution_count": 13,
      "outputs": []
    },
    {
      "cell_type": "code",
      "execution_count": 14,
      "metadata": {
        "colab": {
          "base_uri": "https://localhost:8080/"
        },
        "id": "_Z5eF0Isujje",
        "outputId": "3b9c3ffd-2b20-4b02-879d-fdb457f79733"
      },
      "outputs": [
        {
          "output_type": "stream",
          "name": "stdout",
          "text": [
            "Model: \"sequential\"\n",
            "_________________________________________________________________\n",
            " Layer (type)                Output Shape              Param #   \n",
            "=================================================================\n",
            " vit-l32 (Functional)        (None, 1024)              305607680 \n",
            "                                                                 \n",
            " flatten (Flatten)           (None, 1024)              0         \n",
            "                                                                 \n",
            " dropout (Dropout)           (None, 1024)              0         \n",
            "                                                                 \n",
            " dense (Dense)               (None, 4)                 4100      \n",
            "                                                                 \n",
            "=================================================================\n",
            "Total params: 305,611,780\n",
            "Trainable params: 4,100\n",
            "Non-trainable params: 305,607,680\n",
            "_________________________________________________________________\n"
          ]
        }
      ],
      "source": [
        "model = tf.keras.Sequential([\n",
        "        vit_model,\n",
        "        tf.keras.layers.Flatten(),\n",
        "        tf.keras.layers.Dropout(rate=0.5),\n",
        "        tf.keras.layers.Dense(4, 'softmax')\n",
        "    ])\n",
        "\n",
        "\n",
        "model.summary()"
      ]
    },
    {
      "cell_type": "code",
      "execution_count": 15,
      "metadata": {
        "colab": {
          "base_uri": "https://localhost:8080/"
        },
        "id": "FSUUGBr7ujje",
        "outputId": "609e171b-70c3-45e2-8cab-010ad4713c79"
      },
      "outputs": [
        {
          "output_type": "stream",
          "name": "stdout",
          "text": [
            "Model: \"sequential\"\n",
            "_________________________________________________________________\n",
            " Layer (type)                Output Shape              Param #   \n",
            "=================================================================\n",
            " vit-l32 (Functional)        (None, 1024)              305607680 \n",
            "                                                                 \n",
            " flatten (Flatten)           (None, 1024)              0         \n",
            "                                                                 \n",
            " dropout (Dropout)           (None, 1024)              0         \n",
            "                                                                 \n",
            " dense (Dense)               (None, 4)                 4100      \n",
            "                                                                 \n",
            "=================================================================\n",
            "Total params: 305,611,780\n",
            "Trainable params: 4,100\n",
            "Non-trainable params: 305,607,680\n",
            "_________________________________________________________________\n"
          ]
        }
      ],
      "source": [
        "model.summary()"
      ]
    },
    {
      "cell_type": "code",
      "execution_count": 16,
      "metadata": {
        "id": "RAG0LaCIujjf"
      },
      "outputs": [],
      "source": [
        "sgd = tf.keras.optimizers.SGD(learning_rate=0.005)\n",
        "model.compile(loss='categorical_crossentropy',optimizer = sgd , metrics= ['accuracy'])"
      ]
    },
    {
      "cell_type": "code",
      "execution_count": 17,
      "metadata": {
        "colab": {
          "base_uri": "https://localhost:8080/"
        },
        "id": "mwvNgJeKujjf",
        "outputId": "b1b2d7ee-e3b2-4285-e20b-c322f899c0b4"
      },
      "outputs": [
        {
          "output_type": "stream",
          "name": "stdout",
          "text": [
            "Epoch 1/20\n",
            "714/714 [==============================] - 245s 301ms/step - loss: 1.2097 - accuracy: 0.4583 - val_loss: 1.0724 - val_accuracy: 0.6269\n",
            "Epoch 2/20\n",
            "714/714 [==============================] - 211s 296ms/step - loss: 1.0051 - accuracy: 0.5965 - val_loss: 1.0001 - val_accuracy: 0.6472\n",
            "Epoch 3/20\n",
            "714/714 [==============================] - 211s 295ms/step - loss: 0.9181 - accuracy: 0.6408 - val_loss: 0.9543 - val_accuracy: 0.6574\n",
            "Epoch 4/20\n",
            "714/714 [==============================] - 211s 295ms/step - loss: 0.8569 - accuracy: 0.6756 - val_loss: 0.9450 - val_accuracy: 0.6421\n",
            "Epoch 5/20\n",
            "714/714 [==============================] - 211s 295ms/step - loss: 0.8277 - accuracy: 0.6824 - val_loss: 0.9012 - val_accuracy: 0.6726\n",
            "Epoch 6/20\n",
            "714/714 [==============================] - 211s 295ms/step - loss: 0.8217 - accuracy: 0.6893 - val_loss: 0.8796 - val_accuracy: 0.6447\n",
            "Epoch 7/20\n",
            "714/714 [==============================] - 211s 295ms/step - loss: 0.7978 - accuracy: 0.6994 - val_loss: 0.8647 - val_accuracy: 0.6497\n",
            "Epoch 8/20\n",
            "714/714 [==============================] - 211s 295ms/step - loss: 0.7884 - accuracy: 0.6996 - val_loss: 0.8848 - val_accuracy: 0.6624\n",
            "Epoch 9/20\n",
            "714/714 [==============================] - 211s 295ms/step - loss: 0.7741 - accuracy: 0.7029 - val_loss: 0.8414 - val_accuracy: 0.6802\n",
            "Epoch 10/20\n",
            "714/714 [==============================] - 211s 295ms/step - loss: 0.7647 - accuracy: 0.7127 - val_loss: 0.8513 - val_accuracy: 0.6802\n",
            "Epoch 11/20\n",
            "714/714 [==============================] - 211s 295ms/step - loss: 0.7545 - accuracy: 0.7164 - val_loss: 0.8548 - val_accuracy: 0.6675\n",
            "Epoch 12/20\n",
            "714/714 [==============================] - 211s 296ms/step - loss: 0.7558 - accuracy: 0.7106 - val_loss: 0.8370 - val_accuracy: 0.6802\n",
            "Epoch 13/20\n",
            "714/714 [==============================] - 211s 295ms/step - loss: 0.7450 - accuracy: 0.7129 - val_loss: 0.8293 - val_accuracy: 0.6853\n",
            "Epoch 14/20\n",
            "714/714 [==============================] - 211s 295ms/step - loss: 0.7329 - accuracy: 0.7216 - val_loss: 0.8373 - val_accuracy: 0.6701\n",
            "Epoch 15/20\n",
            "714/714 [==============================] - 211s 295ms/step - loss: 0.7311 - accuracy: 0.7159 - val_loss: 0.8220 - val_accuracy: 0.6777\n",
            "Epoch 16/20\n",
            "714/714 [==============================] - 211s 295ms/step - loss: 0.7336 - accuracy: 0.7132 - val_loss: 0.7991 - val_accuracy: 0.7030\n",
            "Epoch 17/20\n",
            "714/714 [==============================] - 211s 295ms/step - loss: 0.7211 - accuracy: 0.7311 - val_loss: 0.8078 - val_accuracy: 0.6929\n",
            "Epoch 18/20\n",
            "714/714 [==============================] - 211s 295ms/step - loss: 0.7170 - accuracy: 0.7271 - val_loss: 0.8069 - val_accuracy: 0.7005\n",
            "Epoch 19/20\n",
            "714/714 [==============================] - 211s 295ms/step - loss: 0.7096 - accuracy: 0.7309 - val_loss: 0.8263 - val_accuracy: 0.7005\n",
            "Epoch 20/20\n",
            "714/714 [==============================] - 211s 295ms/step - loss: 0.7187 - accuracy: 0.7276 - val_loss: 0.7936 - val_accuracy: 0.6954\n"
          ]
        }
      ],
      "source": [
        "history = model.fit(X_train,y_train,validation_data=(X_val,y_val), epochs =20, verbose=1, batch_size=8)"
      ]
    },
    {
      "cell_type": "code",
      "execution_count": 18,
      "metadata": {
        "id": "elfo52gsujjg",
        "colab": {
          "base_uri": "https://localhost:8080/",
          "height": 518
        },
        "outputId": "68c05de8-68f0-47dc-c530-11662ba2776a"
      },
      "outputs": [
        {
          "output_type": "display_data",
          "data": {
            "text/plain": [
              "<Figure size 1008x504 with 2 Axes>"
            ],
            "image/png": "[encoded data removed]"
          },
          "metadata": {
            "needs_background": "light"
          }
        }
      ],
      "source": [
        "filterwarnings('ignore')\n",
        "\n",
        "epochs = [i for i in range(20)]\n",
        "fig, ax = plt.subplots(1,2,figsize=(14,7))\n",
        "train_acc = history.history['accuracy']\n",
        "train_loss = history.history['loss']\n",
        "val_acc = history.history['val_accuracy']\n",
        "val_loss = history.history['val_loss']\n",
        "\n",
        "fig.text(s='Epochs vs. Training and Validation Accuracy/Loss',size=18,fontweight='bold',\n",
        "             fontname='monospace',color=colors_dark[1],y=1,x=0.28,alpha=0.8)\n",
        "\n",
        "sns.despine()\n",
        "ax[0].plot(epochs, train_acc, marker='o',markerfacecolor=colors_green[2],color=colors_green[3],\n",
        "           label = 'Training Accuracy')\n",
        "ax[0].plot(epochs, val_acc, marker='o',markerfacecolor=colors_red[2],color=colors_red[3],\n",
        "           label = 'Validation Accuracy')\n",
        "ax[0].legend(frameon=False)\n",
        "ax[0].set_xlabel('Epochs')\n",
        "ax[0].set_ylabel('Accuracy')\n",
        "\n",
        "sns.despine()\n",
        "ax[1].plot(epochs, train_loss, marker='o',markerfacecolor=colors_green[2],color=colors_green[3],\n",
        "           label ='Training Loss')\n",
        "ax[1].plot(epochs, val_loss, marker='o',markerfacecolor=colors_red[2],color=colors_red[3],\n",
        "           label = 'Validation Loss')\n",
        "ax[1].legend(frameon=False)\n",
        "ax[1].set_xlabel('Epochs')\n",
        "ax[1].set_ylabel('Training & Validation Loss')\n",
        "\n",
        "fig.show()"
      ]
    },
    {
      "cell_type": "code",
      "execution_count": 19,
      "metadata": {
        "id": "EMLKB_R5ujjg"
      },
      "outputs": [],
      "source": [
        "pred = model.predict(X_test)\n",
        "pred = np.argmax(pred,axis=1)\n",
        "y_test_new = np.argmax(y_test,axis=1)"
      ]
    },
    {
      "cell_type": "code",
      "execution_count": 20,
      "metadata": {
        "id": "eUui5sfxujjg",
        "colab": {
          "base_uri": "https://localhost:8080/"
        },
        "outputId": "d975c1a7-345a-4fec-8470-dda1b1117f54"
      },
      "outputs": [
        {
          "output_type": "stream",
          "name": "stdout",
          "text": [
            "              precision    recall  f1-score   support\n",
            "\n",
            "           0       0.70      0.61      0.66       197\n",
            "           1       0.81      0.94      0.87       290\n",
            "           2       0.52      0.46      0.48       213\n",
            "           3       0.81      0.82      0.82       217\n",
            "\n",
            "    accuracy                           0.73       917\n",
            "   macro avg       0.71      0.71      0.71       917\n",
            "weighted avg       0.72      0.73      0.72       917\n",
            "\n"
          ]
        }
      ],
      "source": [
        "print(classification_report(y_test_new,pred))"
      ]
    },
    {
      "cell_type": "code",
      "execution_count": 21,
      "metadata": {
        "id": "djPg2euuujjh",
        "colab": {
          "base_uri": "https://localhost:8080/",
          "height": 464
        },
        "outputId": "a2380fa0-27f0-4dcb-8240-34a7853ffb0f"
      },
      "outputs": [
        {
          "output_type": "display_data",
          "data": {
            "text/plain": [
              "<Figure size 1008x504 with 2 Axes>"
            ],
            "image/png": "[encoded data removed]"
          },
          "metadata": {
            "needs_background": "light"
          }
        }
      ],
      "source": [
        "fig,ax=plt.subplots(1,1,figsize=(14,7))\n",
        "sns.heatmap(confusion_matrix(y_test_new,pred),ax=ax,xticklabels=labels,yticklabels=labels,annot=True,\n",
        "           cmap=colors_green[::-1],alpha=0.7,linewidths=2,linecolor=colors_dark[3])\n",
        "fig.text(s='Heatmap of the Confusion Matrix',size=18,fontweight='bold',\n",
        "             fontname='monospace',color=colors_dark[1],y=0.92,x=0.28,alpha=0.8)\n",
        "\n",
        "plt.show()"
      ]
    },
    {
      "cell_type": "code",
      "execution_count": 23,
      "metadata": {
        "id": "Z-708Yryujjh"
      },
      "outputs": [],
      "source": [
        "from sklearn.metrics import roc_auc_score\n"
      ]
    },
    {
      "cell_type": "code",
      "source": [
        "roc_auc_score(y_test_new, model.predict(X_test), multi_class='ovr')\n"
      ],
      "metadata": {
        "colab": {
          "base_uri": "https://localhost:8080/"
        },
        "id": "Yyl4GpZmK18M",
        "outputId": "44e38c01-61f3-460e-f68a-8df9aded8b7e"
      },
      "execution_count": 26,
      "outputs": [
        {
          "output_type": "execute_result",
          "data": {
            "text/plain": [
              "0.8950489239061452"
            ]
          },
          "metadata": {},
          "execution_count": 26
        }
      ]
    },
    {
      "cell_type": "code",
      "source": [
        ""
      ],
      "metadata": {
        "id": "n0xOWpLZLIUI"
      },
      "execution_count": null,
      "outputs": []
    }
  ],
  "metadata": {
    "colab": {
      "name": "vision_transformerVit_L32_median.ipynb",
      "provenance": [],
      "collapsed_sections": []
    },
    "kernelspec": {
      "display_name": "Python 3",
      "language": "python",
      "name": "python3"
    },
    "language_info": {
      "codemirror_mode": {
        "name": "ipython",
        "version": 3
      },
      "file_extension": ".py",
      "mimetype": "text/x-python",
      "name": "python",
      "nbconvert_exporter": "python",
      "pygments_lexer": "ipython3",
      "version": "3.6.4"
    },
    "accelerator": "GPU",
    "gpuClass": "standard"
  },
  "nbformat": 4,
  "nbformat_minor": 0
}