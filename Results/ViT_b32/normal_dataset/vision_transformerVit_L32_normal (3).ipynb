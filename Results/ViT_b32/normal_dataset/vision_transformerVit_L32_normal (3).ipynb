{
  "cells": [
    {
      "cell_type": "code",
      "execution_count": 1,
      "metadata": {
        "colab": {
          "base_uri": "https://localhost:8080/"
        },
        "id": "wbaxwZY8ujjU",
        "outputId": "607e4722-4b05-4e0b-85d5-394e54cdf917"
      },
      "outputs": [
        {
          "output_type": "stream",
          "name": "stdout",
          "text": [
            "Looking in indexes: https://pypi.org/simple, https://us-python.pkg.dev/colab-wheels/public/simple/\n",
            "Collecting tensorflow-addons==0.8.3\n",
            "  Downloading tensorflow_addons-0.8.3-cp37-cp37m-manylinux2010_x86_64.whl (1.0 MB)\n",
            "\u001b[K     |████████████████████████████████| 1.0 MB 5.1 MB/s \n",
            "\u001b[?25hRequirement already satisfied: typeguard in /usr/local/lib/python3.7/dist-packages (from tensorflow-addons==0.8.3) (2.7.1)\n",
            "Installing collected packages: tensorflow-addons\n",
            "Successfully installed tensorflow-addons-0.8.3\n",
            "Mounted at /content/drive\n"
          ]
        }
      ],
      "source": [
        "import matplotlib.pyplot as plt\n",
        "import numpy as np\n",
        "import pandas as pd\n",
        "import seaborn as sns\n",
        "import cv2\n",
        "import tensorflow as tf\n",
        "from tensorflow.keras.preprocessing.image import ImageDataGenerator\n",
        "from tqdm import tqdm\n",
        "import os\n",
        "from sklearn.utils import shuffle\n",
        "from sklearn.model_selection import train_test_split\n",
        "from tensorflow.keras.applications import EfficientNetB0\n",
        "from tensorflow.keras.callbacks import EarlyStopping, ReduceLROnPlateau, TensorBoard, ModelCheckpoint\n",
        "from sklearn.metrics import classification_report,confusion_matrix\n",
        "import ipywidgets as widgets\n",
        "import io\n",
        "from PIL import Image\n",
        "from IPython.display import display,clear_output\n",
        "from warnings import filterwarnings\n",
        "!pip install tensorflow-addons==0.8.3\n",
        "from google.colab import drive\n",
        "drive.mount('/content/drive')"
      ]
    },
    {
      "cell_type": "code",
      "source": [
        "from google.colab import drive\n",
        "drive.mount('/content/drive')"
      ],
      "metadata": {
        "colab": {
          "base_uri": "https://localhost:8080/"
        },
        "id": "dhwcQImNQMkL",
        "outputId": "809e8ab8-18e4-4544-fdef-beef9211528a"
      },
      "execution_count": 2,
      "outputs": [
        {
          "output_type": "stream",
          "name": "stdout",
          "text": [
            "Drive already mounted at /content/drive; to attempt to forcibly remount, call drive.mount(\"/content/drive\", force_remount=True).\n"
          ]
        }
      ]
    },
    {
      "cell_type": "code",
      "execution_count": 3,
      "metadata": {
        "colab": {
          "base_uri": "https://localhost:8080/",
          "height": 233
        },
        "id": "Ccb68T4aujjY",
        "outputId": "688e8ba3-f2db-4128-e7ba-ceb58d78688c"
      },
      "outputs": [
        {
          "output_type": "display_data",
          "data": {
            "text/plain": [
              "<Figure size 360x72 with 1 Axes>"
            ],
            "image/png": "[encoded data removed]"
          },
          "metadata": {
            "needs_background": "light"
          }
        },
        {
          "output_type": "display_data",
          "data": {
            "text/plain": [
              "<Figure size 360x72 with 1 Axes>"
            ],
            "image/png": "[encoded data removed]"
          },
          "metadata": {
            "needs_background": "light"
          }
        },
        {
          "output_type": "display_data",
          "data": {
            "text/plain": [
              "<Figure size 360x72 with 1 Axes>"
            ],
            "image/png": "[encoded data removed]"
          },
          "metadata": {
            "needs_background": "light"
          }
        }
      ],
      "source": [
        "colors_dark = [\"#1F1F1F\", \"#313131\", '#636363', '#AEAEAE', '#DADADA']\n",
        "colors_red = [\"#331313\", \"#582626\", '#9E1717', '#D35151', '#E9B4B4']\n",
        "colors_green = ['#01411C','#4B6F44','#4F7942','#74C365','#D0F0C0']\n",
        "\n",
        "sns.palplot(colors_dark)\n",
        "sns.palplot(colors_green)\n",
        "sns.palplot(colors_red)"
      ]
    },
    {
      "cell_type": "code",
      "execution_count": 4,
      "metadata": {
        "id": "33-1XmYeujjZ"
      },
      "outputs": [],
      "source": [
        "labels = ['glioma','notumor','meningioma','pituitary']"
      ]
    },
    {
      "cell_type": "code",
      "execution_count": 5,
      "metadata": {
        "colab": {
          "base_uri": "https://localhost:8080/"
        },
        "id": "8_6FbjcZujja",
        "outputId": "3b321c18-4e20-4f9d-fdf3-e7b3e24b95fd"
      },
      "outputs": [
        {
          "output_type": "stream",
          "name": "stderr",
          "text": [
            "100%|██████████| 1321/1321 [00:30<00:00, 43.29it/s] \n",
            "100%|██████████| 1595/1595 [00:29<00:00, 53.57it/s] \n",
            "100%|██████████| 1339/1339 [00:22<00:00, 58.72it/s] \n",
            "100%|██████████| 1457/1457 [00:28<00:00, 51.61it/s] \n"
          ]
        }
      ],
      "source": [
        "\n",
        "X_train = []\n",
        "y_train = []\n",
        "image_size = 384\n",
        "for i in labels:\n",
        "    folderPath = os.path.join('drive/MyDrive/Brain_tumor_detection/brain_tumor_original_dataset/Training',i)\n",
        "    for j in tqdm(os.listdir(folderPath)):\n",
        "        img = cv2.imread(os.path.join(folderPath,j))\n",
        "        img = cv2.resize(img,(image_size, image_size))\n",
        "        X_train.append(img)\n",
        "        y_train.append(i)\n",
        "        \n",
        "        \n",
        "X_train = np.array(X_train)\n",
        "y_train = np.array(y_train)"
      ]
    },
    {
      "cell_type": "code",
      "execution_count": 6,
      "metadata": {
        "colab": {
          "base_uri": "https://localhost:8080/"
        },
        "id": "Pjn2QsqyLYg5",
        "outputId": "e030062b-ae3d-4ed7-d63d-8e2643583354"
      },
      "outputs": [
        {
          "output_type": "stream",
          "name": "stderr",
          "text": [
            "100%|██████████| 300/300 [00:03<00:00, 78.10it/s] \n",
            "100%|██████████| 405/405 [00:04<00:00, 81.11it/s] \n",
            "100%|██████████| 306/306 [00:04<00:00, 74.30it/s] \n",
            "100%|██████████| 300/300 [00:03<00:00, 77.05it/s] \n"
          ]
        }
      ],
      "source": [
        "X_testing = []\n",
        "y_testing = []\n",
        "image_size = 384\n",
        "for i in labels:\n",
        "    folderPath = os.path.join('drive/MyDrive/Brain_tumor_detection/brain_tumor_original_dataset/Testing',i)\n",
        "    for j in tqdm(os.listdir(folderPath)):\n",
        "        img = cv2.imread(os.path.join(folderPath,j))\n",
        "        img = cv2.resize(img,(image_size, image_size))\n",
        "        X_testing.append(img)\n",
        "        y_testing.append(i)\n",
        "        \n",
        "        \n",
        "X_testing = np.array(X_testing)\n",
        "y_testing = np.array(y_testing)"
      ]
    },
    {
      "cell_type": "code",
      "execution_count": 7,
      "metadata": {
        "id": "4lch78bUMfnL"
      },
      "outputs": [],
      "source": [
        "X_test,X_val,y_test,y_val = train_test_split(X_testing,y_testing, test_size=0.3,random_state=101)"
      ]
    },
    {
      "cell_type": "code",
      "execution_count": 7,
      "metadata": {
        "id": "-v8W6d8gM0X-"
      },
      "outputs": [],
      "source": [
        ""
      ]
    },
    {
      "cell_type": "code",
      "execution_count": 8,
      "metadata": {
        "id": "HPnoc2-7ujjb"
      },
      "outputs": [],
      "source": [
        "X_train, y_train = shuffle(X_train,y_train, random_state=101)"
      ]
    },
    {
      "cell_type": "code",
      "execution_count": 9,
      "metadata": {
        "colab": {
          "base_uri": "https://localhost:8080/"
        },
        "id": "4UGGgFtrujjb",
        "outputId": "6208a535-dd04-421b-fd86-1a7bc16f1cb5"
      },
      "outputs": [
        {
          "output_type": "execute_result",
          "data": {
            "text/plain": [
              "(5712, 384, 384, 3)"
            ]
          },
          "metadata": {},
          "execution_count": 9
        }
      ],
      "source": [
        "X_train.shape"
      ]
    },
    {
      "cell_type": "code",
      "execution_count": 10,
      "metadata": {
        "id": "i5_qPhI1ujjd"
      },
      "outputs": [],
      "source": [
        "y_train_new = []\n",
        "for i in y_train:\n",
        "    y_train_new.append(labels.index(i))\n",
        "y_train = y_train_new\n",
        "y_train = tf.keras.utils.to_categorical(y_train)\n",
        "\n",
        "\n",
        "y_test_new = []\n",
        "for i in y_test:\n",
        "    y_test_new.append(labels.index(i))\n",
        "y_test = y_test_new\n",
        "y_test = tf.keras.utils.to_categorical(y_test)\n",
        "\n",
        "y_val_new = []\n",
        "for i in y_val:\n",
        "    y_val_new.append(labels.index(i))\n",
        "y_val = y_val_new\n",
        "y_val = tf.keras.utils.to_categorical(y_val)"
      ]
    },
    {
      "cell_type": "code",
      "execution_count": 11,
      "metadata": {
        "id": "NAwDJ5eGujjd",
        "colab": {
          "base_uri": "https://localhost:8080/"
        },
        "outputId": "38622ebd-58db-4d15-bd65-798ba0b31c27"
      },
      "outputs": [
        {
          "output_type": "stream",
          "name": "stdout",
          "text": [
            "  Building wheel for validators (setup.py) ... \u001b[?25l\u001b[?25hdone\n"
          ]
        }
      ],
      "source": [
        "!pip install --quiet vit-keras\n",
        "import tensorflow_addons as tfa\n",
        "\n",
        "from vit_keras import vit"
      ]
    },
    {
      "cell_type": "code",
      "execution_count": 12,
      "metadata": {
        "id": "S38mV2M-6w_j",
        "colab": {
          "base_uri": "https://localhost:8080/"
        },
        "outputId": "6898abab-0f9b-4f66-a4e0-b653ba4b0e7b"
      },
      "outputs": [
        {
          "output_type": "stream",
          "name": "stdout",
          "text": [
            "Downloading data from https://github.com/faustomorales/vit-keras/releases/download/dl/ViT-L_32_imagenet21k+imagenet2012.npz\n",
            "1226661888/1226658854 [==============================] - 130s 0us/step\n",
            "1226670080/1226658854 [==============================] - 130s 0us/step\n"
          ]
        }
      ],
      "source": [
        "vit_model = vit.vit_l32(\n",
        "        activation = 'softmax',\n",
        "        pretrained = True,\n",
        "        include_top = False,\n",
        "        pretrained_top = False,\n",
        "        classes = 4)"
      ]
    },
    {
      "cell_type": "code",
      "source": [
        "for layer in vit_model.layers:\n",
        "  layer.trainable = False"
      ],
      "metadata": {
        "id": "uT8nXsPXKd0N"
      },
      "execution_count": 13,
      "outputs": []
    },
    {
      "cell_type": "code",
      "execution_count": 16,
      "metadata": {
        "colab": {
          "base_uri": "https://localhost:8080/"
        },
        "id": "_Z5eF0Isujje",
        "outputId": "9812c766-5916-4661-b42a-b3ccca16e32a"
      },
      "outputs": [
        {
          "output_type": "stream",
          "name": "stdout",
          "text": [
            "Model: \"sequential_1\"\n",
            "_________________________________________________________________\n",
            " Layer (type)                Output Shape              Param #   \n",
            "=================================================================\n",
            " vit-l32 (Functional)        (None, 1024)              305607680 \n",
            "                                                                 \n",
            " flatten_1 (Flatten)         (None, 1024)              0         \n",
            "                                                                 \n",
            " dropout_1 (Dropout)         (None, 1024)              0         \n",
            "                                                                 \n",
            " dense_1 (Dense)             (None, 4)                 4100      \n",
            "                                                                 \n",
            "=================================================================\n",
            "Total params: 305,611,780\n",
            "Trainable params: 4,100\n",
            "Non-trainable params: 305,607,680\n",
            "_________________________________________________________________\n"
          ]
        }
      ],
      "source": [
        "model = tf.keras.Sequential([\n",
        "        vit_model,\n",
        "        tf.keras.layers.Flatten(),\n",
        "        tf.keras.layers.Dropout(rate=0.5),\n",
        "        tf.keras.layers.Dense(4, 'softmax')\n",
        "    ])\n",
        "\n",
        "\n",
        "model.summary()"
      ]
    },
    {
      "cell_type": "code",
      "source": [
        ""
      ],
      "metadata": {
        "id": "JMPUzDgBKbvx"
      },
      "execution_count": null,
      "outputs": []
    },
    {
      "cell_type": "code",
      "execution_count": 17,
      "metadata": {
        "colab": {
          "base_uri": "https://localhost:8080/"
        },
        "id": "FSUUGBr7ujje",
        "outputId": "4dc403af-91e5-432b-ce39-2de891d04a60"
      },
      "outputs": [
        {
          "output_type": "stream",
          "name": "stdout",
          "text": [
            "Model: \"sequential_1\"\n",
            "_________________________________________________________________\n",
            " Layer (type)                Output Shape              Param #   \n",
            "=================================================================\n",
            " vit-l32 (Functional)        (None, 1024)              305607680 \n",
            "                                                                 \n",
            " flatten_1 (Flatten)         (None, 1024)              0         \n",
            "                                                                 \n",
            " dropout_1 (Dropout)         (None, 1024)              0         \n",
            "                                                                 \n",
            " dense_1 (Dense)             (None, 4)                 4100      \n",
            "                                                                 \n",
            "=================================================================\n",
            "Total params: 305,611,780\n",
            "Trainable params: 4,100\n",
            "Non-trainable params: 305,607,680\n",
            "_________________________________________________________________\n"
          ]
        }
      ],
      "source": [
        "model.summary()"
      ]
    },
    {
      "cell_type": "code",
      "execution_count": 18,
      "metadata": {
        "id": "RAG0LaCIujjf"
      },
      "outputs": [],
      "source": [
        "sgd = tf.keras.optimizers.SGD(learning_rate=0.005)\n",
        "model.compile(loss='categorical_crossentropy',optimizer = sgd , metrics= ['accuracy'])"
      ]
    },
    {
      "cell_type": "code",
      "execution_count": 19,
      "metadata": {
        "colab": {
          "base_uri": "https://localhost:8080/"
        },
        "id": "mwvNgJeKujjf",
        "outputId": "38ac3194-6abc-4fcc-b398-978c26b3d979"
      },
      "outputs": [
        {
          "output_type": "stream",
          "name": "stdout",
          "text": [
            "Epoch 1/20\n",
            "714/714 [==============================] - 256s 324ms/step - loss: 1.2187 - accuracy: 0.4608 - val_loss: 1.0782 - val_accuracy: 0.6117\n",
            "Epoch 2/20\n",
            "714/714 [==============================] - 225s 316ms/step - loss: 0.9833 - accuracy: 0.6124 - val_loss: 0.9964 - val_accuracy: 0.6168\n",
            "Epoch 3/20\n",
            "714/714 [==============================] - 225s 315ms/step - loss: 0.9118 - accuracy: 0.6455 - val_loss: 0.9416 - val_accuracy: 0.6396\n",
            "Epoch 4/20\n",
            "714/714 [==============================] - 225s 315ms/step - loss: 0.8590 - accuracy: 0.6632 - val_loss: 0.9178 - val_accuracy: 0.6624\n",
            "Epoch 5/20\n",
            "714/714 [==============================] - 225s 316ms/step - loss: 0.8262 - accuracy: 0.6831 - val_loss: 0.8866 - val_accuracy: 0.6523\n",
            "Epoch 6/20\n",
            "714/714 [==============================] - 225s 315ms/step - loss: 0.8029 - accuracy: 0.6942 - val_loss: 0.8785 - val_accuracy: 0.6701\n",
            "Epoch 7/20\n",
            "714/714 [==============================] - 225s 315ms/step - loss: 0.7839 - accuracy: 0.6954 - val_loss: 0.8616 - val_accuracy: 0.6827\n",
            "Epoch 8/20\n",
            "714/714 [==============================] - 225s 315ms/step - loss: 0.7816 - accuracy: 0.6964 - val_loss: 0.8551 - val_accuracy: 0.6650\n",
            "Epoch 9/20\n",
            "714/714 [==============================] - 225s 315ms/step - loss: 0.7644 - accuracy: 0.7001 - val_loss: 0.8540 - val_accuracy: 0.6650\n",
            "Epoch 10/20\n",
            "714/714 [==============================] - 225s 315ms/step - loss: 0.7570 - accuracy: 0.7152 - val_loss: 0.8447 - val_accuracy: 0.6624\n",
            "Epoch 11/20\n",
            "714/714 [==============================] - 225s 315ms/step - loss: 0.7530 - accuracy: 0.7087 - val_loss: 0.8354 - val_accuracy: 0.6802\n",
            "Epoch 12/20\n",
            "714/714 [==============================] - 225s 315ms/step - loss: 0.7398 - accuracy: 0.7160 - val_loss: 0.8193 - val_accuracy: 0.6929\n",
            "Epoch 13/20\n",
            "714/714 [==============================] - 225s 315ms/step - loss: 0.7213 - accuracy: 0.7307 - val_loss: 0.8104 - val_accuracy: 0.7081\n",
            "Epoch 14/20\n",
            "714/714 [==============================] - 225s 315ms/step - loss: 0.7265 - accuracy: 0.7183 - val_loss: 0.8257 - val_accuracy: 0.6904\n",
            "Epoch 15/20\n",
            "714/714 [==============================] - 225s 315ms/step - loss: 0.7239 - accuracy: 0.7218 - val_loss: 0.8020 - val_accuracy: 0.7056\n",
            "Epoch 16/20\n",
            "714/714 [==============================] - 225s 315ms/step - loss: 0.7195 - accuracy: 0.7216 - val_loss: 0.8058 - val_accuracy: 0.6878\n",
            "Epoch 17/20\n",
            "714/714 [==============================] - 224s 314ms/step - loss: 0.7125 - accuracy: 0.7335 - val_loss: 0.8149 - val_accuracy: 0.7056\n",
            "Epoch 18/20\n",
            "714/714 [==============================] - 225s 315ms/step - loss: 0.7048 - accuracy: 0.7232 - val_loss: 0.7954 - val_accuracy: 0.7132\n",
            "Epoch 19/20\n",
            "714/714 [==============================] - 225s 315ms/step - loss: 0.7037 - accuracy: 0.7330 - val_loss: 0.7964 - val_accuracy: 0.6954\n",
            "Epoch 20/20\n",
            "714/714 [==============================] - 225s 315ms/step - loss: 0.6927 - accuracy: 0.7360 - val_loss: 0.7928 - val_accuracy: 0.7107\n"
          ]
        }
      ],
      "source": [
        "history = model.fit(X_train,y_train,validation_data=(X_val,y_val), epochs =20, verbose=1, batch_size=8)"
      ]
    },
    {
      "cell_type": "code",
      "execution_count": 20,
      "metadata": {
        "id": "elfo52gsujjg",
        "colab": {
          "base_uri": "https://localhost:8080/",
          "height": 518
        },
        "outputId": "82c4663a-951f-4d52-d1e3-c0066cc7ca81"
      },
      "outputs": [
        {
          "output_type": "display_data",
          "data": {
            "text/plain": [
              "<Figure size 1008x504 with 2 Axes>"
            ],
            "image/png": "[encoded data removed]"
          },
          "metadata": {
            "needs_background": "light"
          }
        }
      ],
      "source": [
        "filterwarnings('ignore')\n",
        "\n",
        "epochs = [i for i in range(20)]\n",
        "fig, ax = plt.subplots(1,2,figsize=(14,7))\n",
        "train_acc = history.history['accuracy']\n",
        "train_loss = history.history['loss']\n",
        "val_acc = history.history['val_accuracy']\n",
        "val_loss = history.history['val_loss']\n",
        "\n",
        "fig.text(s='Epochs vs. Training and Validation Accuracy/Loss',size=18,fontweight='bold',\n",
        "             fontname='monospace',color=colors_dark[1],y=1,x=0.28,alpha=0.8)\n",
        "\n",
        "sns.despine()\n",
        "ax[0].plot(epochs, train_acc, marker='o',markerfacecolor=colors_green[2],color=colors_green[3],\n",
        "           label = 'Training Accuracy')\n",
        "ax[0].plot(epochs, val_acc, marker='o',markerfacecolor=colors_red[2],color=colors_red[3],\n",
        "           label = 'Validation Accuracy')\n",
        "ax[0].legend(frameon=False)\n",
        "ax[0].set_xlabel('Epochs')\n",
        "ax[0].set_ylabel('Accuracy')\n",
        "\n",
        "sns.despine()\n",
        "ax[1].plot(epochs, train_loss, marker='o',markerfacecolor=colors_green[2],color=colors_green[3],\n",
        "           label ='Training Loss')\n",
        "ax[1].plot(epochs, val_loss, marker='o',markerfacecolor=colors_red[2],color=colors_red[3],\n",
        "           label = 'Validation Loss')\n",
        "ax[1].legend(frameon=False)\n",
        "ax[1].set_xlabel('Epochs')\n",
        "ax[1].set_ylabel('Training & Validation Loss')\n",
        "\n",
        "fig.show()"
      ]
    },
    {
      "cell_type": "code",
      "execution_count": 21,
      "metadata": {
        "id": "EMLKB_R5ujjg"
      },
      "outputs": [],
      "source": [
        "pred = model.predict(X_test)\n",
        "pred = np.argmax(pred,axis=1)\n",
        "y_test_new = np.argmax(y_test,axis=1)"
      ]
    },
    {
      "cell_type": "code",
      "execution_count": 22,
      "metadata": {
        "id": "eUui5sfxujjg",
        "colab": {
          "base_uri": "https://localhost:8080/"
        },
        "outputId": "2c6edc15-31a2-4787-90ab-0659c5da60c6"
      },
      "outputs": [
        {
          "output_type": "stream",
          "name": "stdout",
          "text": [
            "              precision    recall  f1-score   support\n",
            "\n",
            "           0       0.71      0.57      0.63       197\n",
            "           1       0.85      0.91      0.88       290\n",
            "           2       0.52      0.48      0.50       213\n",
            "           3       0.76      0.86      0.80       217\n",
            "\n",
            "    accuracy                           0.73       917\n",
            "   macro avg       0.71      0.71      0.70       917\n",
            "weighted avg       0.72      0.73      0.72       917\n",
            "\n"
          ]
        }
      ],
      "source": [
        "print(classification_report(y_test_new,pred))"
      ]
    },
    {
      "cell_type": "code",
      "execution_count": 23,
      "metadata": {
        "id": "djPg2euuujjh",
        "colab": {
          "base_uri": "https://localhost:8080/",
          "height": 464
        },
        "outputId": "fafb1159-98ee-4ba8-c7a9-26ad4a2f1aaf"
      },
      "outputs": [
        {
          "output_type": "display_data",
          "data": {
            "text/plain": [
              "<Figure size 1008x504 with 2 Axes>"
            ],
            "image/png": "[encoded data removed]"
          },
          "metadata": {
            "needs_background": "light"
          }
        }
      ],
      "source": [
        "fig,ax=plt.subplots(1,1,figsize=(14,7))\n",
        "sns.heatmap(confusion_matrix(y_test_new,pred),ax=ax,xticklabels=labels,yticklabels=labels,annot=True,\n",
        "           cmap=colors_green[::-1],alpha=0.7,linewidths=2,linecolor=colors_dark[3])\n",
        "fig.text(s='Heatmap of the Confusion Matrix',size=18,fontweight='bold',\n",
        "             fontname='monospace',color=colors_dark[1],y=0.92,x=0.28,alpha=0.8)\n",
        "\n",
        "plt.show()"
      ]
    },
    {
      "cell_type": "code",
      "execution_count": null,
      "metadata": {
        "id": "Z-708Yryujjh"
      },
      "outputs": [],
      "source": [
        ""
      ]
    }
  ],
  "metadata": {
    "accelerator": "GPU",
    "colab": {
      "name": "vision_transformerVit_L32_normal.ipynb",
      "provenance": [],
      "collapsed_sections": []
    },
    "kernelspec": {
      "display_name": "Python 3",
      "language": "python",
      "name": "python3"
    },
    "language_info": {
      "codemirror_mode": {
        "name": "ipython",
        "version": 3
      },
      "file_extension": ".py",
      "mimetype": "text/x-python",
      "name": "python",
      "nbconvert_exporter": "python",
      "pygments_lexer": "ipython3",
      "version": "3.6.4"
    }
  },
  "nbformat": 4,
  "nbformat_minor": 0
}